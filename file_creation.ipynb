{
 "cells": [
  {
   "cell_type": "code",
   "execution_count": null,
   "metadata": {},
   "outputs": [],
   "source": [
    "with open(\"200mb.txt\", \"w\") as f:\n",
    "    f.write(\"a\" * (200 * 1024 * 1024))"
   ]
  },
  {
   "cell_type": "code",
   "execution_count": null,
   "metadata": {},
   "outputs": [],
   "source": [
    "with open(\"400mb.txt\", \"w\") as f:\n",
    "    f.write(\"a\" * (400 * 1024 * 1024))"
   ]
  },
  {
   "cell_type": "code",
   "execution_count": null,
   "metadata": {},
   "outputs": [],
   "source": [
    "with open(\"600mb.txt\", \"w\") as f:\n",
    "    f.write(\"a\" * (600 * 1024 * 1024))"
   ]
  },
  {
   "cell_type": "code",
   "execution_count": null,
   "metadata": {},
   "outputs": [],
   "source": [
    "with open(\"800mb.txt\", \"w\") as f:\n",
    "    f.write(\"a\" * (800 * 1024 * 1024))"
   ]
  },
  {
   "cell_type": "code",
   "execution_count": null,
   "metadata": {},
   "outputs": [],
   "source": [
    "with open(\"1000mb.txt\", \"w\") as f:\n",
    "    f.write(\"a\" * (1000 * 1024 * 1024))"
   ]
  }
 ],
 "metadata": {
  "language_info": {
   "name": "python"
  }
 },
 "nbformat": 4,
 "nbformat_minor": 2
}
